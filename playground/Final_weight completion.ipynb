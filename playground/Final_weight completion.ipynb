{
 "cells": [
  {
   "cell_type": "code",
   "execution_count": 1,
   "metadata": {},
   "outputs": [
    {
     "ename": "KeyboardInterrupt",
     "evalue": "",
     "output_type": "error",
     "traceback": [
      "\u001b[0;31m---------------------------------------------------------------------------\u001b[0m",
      "\u001b[0;31mKeyboardInterrupt\u001b[0m                         Traceback (most recent call last)",
      "\u001b[0;32m<ipython-input-1-10a11af57db8>\u001b[0m in \u001b[0;36m<module>\u001b[0;34m\u001b[0m\n\u001b[0;32m----> 1\u001b[0;31m \u001b[0;32mimport\u001b[0m \u001b[0mnetworkx\u001b[0m \u001b[0;32mas\u001b[0m \u001b[0mnx\u001b[0m\u001b[0;34m\u001b[0m\u001b[0;34m\u001b[0m\u001b[0m\n\u001b[0m\u001b[1;32m      2\u001b[0m \u001b[0;32mimport\u001b[0m \u001b[0mosmnx\u001b[0m \u001b[0;32mas\u001b[0m \u001b[0mox\u001b[0m\u001b[0;34m\u001b[0m\u001b[0;34m\u001b[0m\u001b[0m\n\u001b[1;32m      3\u001b[0m \u001b[0;32mimport\u001b[0m \u001b[0mgeopandas\u001b[0m \u001b[0;32mas\u001b[0m \u001b[0mgpd\u001b[0m\u001b[0;34m\u001b[0m\u001b[0;34m\u001b[0m\u001b[0m\n\u001b[1;32m      4\u001b[0m \u001b[0;32mimport\u001b[0m \u001b[0mpandas\u001b[0m \u001b[0;32mas\u001b[0m \u001b[0mpd\u001b[0m\u001b[0;34m\u001b[0m\u001b[0;34m\u001b[0m\u001b[0m\n\u001b[1;32m      5\u001b[0m \u001b[0;32mfrom\u001b[0m \u001b[0mshapely\u001b[0m\u001b[0;34m.\u001b[0m\u001b[0mgeometry\u001b[0m \u001b[0;32mimport\u001b[0m \u001b[0mPoint\u001b[0m\u001b[0;34m\u001b[0m\u001b[0;34m\u001b[0m\u001b[0m\n",
      "\u001b[0;32m~/opt/anaconda3/lib/python3.8/site-packages/networkx/__init__.py\u001b[0m in \u001b[0;36m<module>\u001b[0;34m\u001b[0m\n\u001b[1;32m     59\u001b[0m \u001b[0;32mfrom\u001b[0m \u001b[0mnetworkx\u001b[0m\u001b[0;34m.\u001b[0m\u001b[0mrelabel\u001b[0m \u001b[0;32mimport\u001b[0m \u001b[0;34m*\u001b[0m\u001b[0;34m\u001b[0m\u001b[0;34m\u001b[0m\u001b[0m\n\u001b[1;32m     60\u001b[0m \u001b[0;34m\u001b[0m\u001b[0m\n\u001b[0;32m---> 61\u001b[0;31m \u001b[0;32mimport\u001b[0m \u001b[0mnetworkx\u001b[0m\u001b[0;34m.\u001b[0m\u001b[0mgenerators\u001b[0m\u001b[0;34m\u001b[0m\u001b[0;34m\u001b[0m\u001b[0m\n\u001b[0m\u001b[1;32m     62\u001b[0m \u001b[0;32mfrom\u001b[0m \u001b[0mnetworkx\u001b[0m\u001b[0;34m.\u001b[0m\u001b[0mgenerators\u001b[0m \u001b[0;32mimport\u001b[0m \u001b[0;34m*\u001b[0m\u001b[0;34m\u001b[0m\u001b[0;34m\u001b[0m\u001b[0m\n\u001b[1;32m     63\u001b[0m \u001b[0;34m\u001b[0m\u001b[0m\n",
      "\u001b[0;32m~/opt/anaconda3/lib/python3.8/site-packages/networkx/generators/__init__.py\u001b[0m in \u001b[0;36m<module>\u001b[0;34m\u001b[0m\n\u001b[1;32m     14\u001b[0m \u001b[0;32mfrom\u001b[0m \u001b[0mnetworkx\u001b[0m\u001b[0;34m.\u001b[0m\u001b[0mgenerators\u001b[0m\u001b[0;34m.\u001b[0m\u001b[0mgeometric\u001b[0m \u001b[0;32mimport\u001b[0m \u001b[0;34m*\u001b[0m\u001b[0;34m\u001b[0m\u001b[0;34m\u001b[0m\u001b[0m\n\u001b[1;32m     15\u001b[0m \u001b[0;32mfrom\u001b[0m \u001b[0mnetworkx\u001b[0m\u001b[0;34m.\u001b[0m\u001b[0mgenerators\u001b[0m\u001b[0;34m.\u001b[0m\u001b[0minternet_as_graphs\u001b[0m \u001b[0;32mimport\u001b[0m \u001b[0;34m*\u001b[0m\u001b[0;34m\u001b[0m\u001b[0;34m\u001b[0m\u001b[0m\n\u001b[0;32m---> 16\u001b[0;31m \u001b[0;32mfrom\u001b[0m \u001b[0mnetworkx\u001b[0m\u001b[0;34m.\u001b[0m\u001b[0mgenerators\u001b[0m\u001b[0;34m.\u001b[0m\u001b[0mintersection\u001b[0m \u001b[0;32mimport\u001b[0m \u001b[0;34m*\u001b[0m\u001b[0;34m\u001b[0m\u001b[0;34m\u001b[0m\u001b[0m\n\u001b[0m\u001b[1;32m     17\u001b[0m \u001b[0;32mfrom\u001b[0m \u001b[0mnetworkx\u001b[0m\u001b[0;34m.\u001b[0m\u001b[0mgenerators\u001b[0m\u001b[0;34m.\u001b[0m\u001b[0minterval_graph\u001b[0m \u001b[0;32mimport\u001b[0m \u001b[0;34m*\u001b[0m\u001b[0;34m\u001b[0m\u001b[0;34m\u001b[0m\u001b[0m\n\u001b[1;32m     18\u001b[0m \u001b[0;32mfrom\u001b[0m \u001b[0mnetworkx\u001b[0m\u001b[0;34m.\u001b[0m\u001b[0mgenerators\u001b[0m\u001b[0;34m.\u001b[0m\u001b[0mjoint_degree_seq\u001b[0m \u001b[0;32mimport\u001b[0m \u001b[0;34m*\u001b[0m\u001b[0;34m\u001b[0m\u001b[0;34m\u001b[0m\u001b[0m\n",
      "\u001b[0;32m~/opt/anaconda3/lib/python3.8/site-packages/networkx/generators/intersection.py\u001b[0m in \u001b[0;36m<module>\u001b[0;34m\u001b[0m\n\u001b[1;32m      3\u001b[0m \"\"\"\n\u001b[1;32m      4\u001b[0m \u001b[0;32mimport\u001b[0m \u001b[0mnetworkx\u001b[0m \u001b[0;32mas\u001b[0m \u001b[0mnx\u001b[0m\u001b[0;34m\u001b[0m\u001b[0;34m\u001b[0m\u001b[0m\n\u001b[0;32m----> 5\u001b[0;31m \u001b[0;32mfrom\u001b[0m \u001b[0mnetworkx\u001b[0m\u001b[0;34m.\u001b[0m\u001b[0malgorithms\u001b[0m \u001b[0;32mimport\u001b[0m \u001b[0mbipartite\u001b[0m\u001b[0;34m\u001b[0m\u001b[0;34m\u001b[0m\u001b[0m\n\u001b[0m\u001b[1;32m      6\u001b[0m \u001b[0;32mfrom\u001b[0m \u001b[0mnetworkx\u001b[0m\u001b[0;34m.\u001b[0m\u001b[0mutils\u001b[0m \u001b[0;32mimport\u001b[0m \u001b[0mpy_random_state\u001b[0m\u001b[0;34m\u001b[0m\u001b[0;34m\u001b[0m\u001b[0m\n\u001b[1;32m      7\u001b[0m \u001b[0;34m\u001b[0m\u001b[0m\n",
      "\u001b[0;32m~/opt/anaconda3/lib/python3.8/site-packages/networkx/algorithms/__init__.py\u001b[0m in \u001b[0;36m<module>\u001b[0;34m\u001b[0m\n\u001b[1;32m     41\u001b[0m \u001b[0;32mfrom\u001b[0m \u001b[0mnetworkx\u001b[0m\u001b[0;34m.\u001b[0m\u001b[0malgorithms\u001b[0m\u001b[0;34m.\u001b[0m\u001b[0mregular\u001b[0m \u001b[0;32mimport\u001b[0m \u001b[0;34m*\u001b[0m\u001b[0;34m\u001b[0m\u001b[0;34m\u001b[0m\u001b[0m\n\u001b[1;32m     42\u001b[0m \u001b[0;32mfrom\u001b[0m \u001b[0mnetworkx\u001b[0m\u001b[0;34m.\u001b[0m\u001b[0malgorithms\u001b[0m\u001b[0;34m.\u001b[0m\u001b[0mrichclub\u001b[0m \u001b[0;32mimport\u001b[0m \u001b[0;34m*\u001b[0m\u001b[0;34m\u001b[0m\u001b[0;34m\u001b[0m\u001b[0m\n\u001b[0;32m---> 43\u001b[0;31m \u001b[0;32mfrom\u001b[0m \u001b[0mnetworkx\u001b[0m\u001b[0;34m.\u001b[0m\u001b[0malgorithms\u001b[0m\u001b[0;34m.\u001b[0m\u001b[0mshortest_paths\u001b[0m \u001b[0;32mimport\u001b[0m \u001b[0;34m*\u001b[0m\u001b[0;34m\u001b[0m\u001b[0;34m\u001b[0m\u001b[0m\n\u001b[0m\u001b[1;32m     44\u001b[0m \u001b[0;32mfrom\u001b[0m \u001b[0mnetworkx\u001b[0m\u001b[0;34m.\u001b[0m\u001b[0malgorithms\u001b[0m\u001b[0;34m.\u001b[0m\u001b[0msimilarity\u001b[0m \u001b[0;32mimport\u001b[0m \u001b[0;34m*\u001b[0m\u001b[0;34m\u001b[0m\u001b[0;34m\u001b[0m\u001b[0m\n\u001b[1;32m     45\u001b[0m \u001b[0;32mfrom\u001b[0m \u001b[0mnetworkx\u001b[0m\u001b[0;34m.\u001b[0m\u001b[0malgorithms\u001b[0m\u001b[0;34m.\u001b[0m\u001b[0mgraph_hashing\u001b[0m \u001b[0;32mimport\u001b[0m \u001b[0;34m*\u001b[0m\u001b[0;34m\u001b[0m\u001b[0;34m\u001b[0m\u001b[0m\n",
      "\u001b[0;32m~/opt/anaconda3/lib/python3.8/site-packages/networkx/algorithms/shortest_paths/__init__.py\u001b[0m in \u001b[0;36m<module>\u001b[0;34m\u001b[0m\n\u001b[1;32m      1\u001b[0m \u001b[0;32mfrom\u001b[0m \u001b[0mnetworkx\u001b[0m\u001b[0;34m.\u001b[0m\u001b[0malgorithms\u001b[0m\u001b[0;34m.\u001b[0m\u001b[0mshortest_paths\u001b[0m\u001b[0;34m.\u001b[0m\u001b[0mgeneric\u001b[0m \u001b[0;32mimport\u001b[0m \u001b[0;34m*\u001b[0m\u001b[0;34m\u001b[0m\u001b[0;34m\u001b[0m\u001b[0m\n\u001b[0;32m----> 2\u001b[0;31m \u001b[0;32mfrom\u001b[0m \u001b[0mnetworkx\u001b[0m\u001b[0;34m.\u001b[0m\u001b[0malgorithms\u001b[0m\u001b[0;34m.\u001b[0m\u001b[0mshortest_paths\u001b[0m\u001b[0;34m.\u001b[0m\u001b[0munweighted\u001b[0m \u001b[0;32mimport\u001b[0m \u001b[0;34m*\u001b[0m\u001b[0;34m\u001b[0m\u001b[0;34m\u001b[0m\u001b[0m\n\u001b[0m\u001b[1;32m      3\u001b[0m \u001b[0;32mfrom\u001b[0m \u001b[0mnetworkx\u001b[0m\u001b[0;34m.\u001b[0m\u001b[0malgorithms\u001b[0m\u001b[0;34m.\u001b[0m\u001b[0mshortest_paths\u001b[0m\u001b[0;34m.\u001b[0m\u001b[0mweighted\u001b[0m \u001b[0;32mimport\u001b[0m \u001b[0;34m*\u001b[0m\u001b[0;34m\u001b[0m\u001b[0;34m\u001b[0m\u001b[0m\n\u001b[1;32m      4\u001b[0m \u001b[0;32mfrom\u001b[0m \u001b[0mnetworkx\u001b[0m\u001b[0;34m.\u001b[0m\u001b[0malgorithms\u001b[0m\u001b[0;34m.\u001b[0m\u001b[0mshortest_paths\u001b[0m\u001b[0;34m.\u001b[0m\u001b[0mastar\u001b[0m \u001b[0;32mimport\u001b[0m \u001b[0;34m*\u001b[0m\u001b[0;34m\u001b[0m\u001b[0;34m\u001b[0m\u001b[0m\n\u001b[1;32m      5\u001b[0m \u001b[0;32mfrom\u001b[0m \u001b[0mnetworkx\u001b[0m\u001b[0;34m.\u001b[0m\u001b[0malgorithms\u001b[0m\u001b[0;34m.\u001b[0m\u001b[0mshortest_paths\u001b[0m\u001b[0;34m.\u001b[0m\u001b[0mdense\u001b[0m \u001b[0;32mimport\u001b[0m \u001b[0;34m*\u001b[0m\u001b[0;34m\u001b[0m\u001b[0;34m\u001b[0m\u001b[0m\n",
      "\u001b[0;32m~/opt/anaconda3/lib/python3.8/site-packages/networkx/algorithms/shortest_paths/unweighted.py\u001b[0m in \u001b[0;36m<module>\u001b[0;34m\u001b[0m\n\u001b[1;32m      2\u001b[0m \u001b[0mShortest\u001b[0m \u001b[0mpath\u001b[0m \u001b[0malgorithms\u001b[0m \u001b[0;32mfor\u001b[0m \u001b[0munweighted\u001b[0m \u001b[0mgraphs\u001b[0m\u001b[0;34m.\u001b[0m\u001b[0;34m\u001b[0m\u001b[0;34m\u001b[0m\u001b[0m\n\u001b[1;32m      3\u001b[0m \"\"\"\n\u001b[0;32m----> 4\u001b[0;31m \u001b[0;32mimport\u001b[0m \u001b[0mnetworkx\u001b[0m \u001b[0;32mas\u001b[0m \u001b[0mnx\u001b[0m\u001b[0;34m\u001b[0m\u001b[0;34m\u001b[0m\u001b[0m\n\u001b[0m\u001b[1;32m      5\u001b[0m \u001b[0;34m\u001b[0m\u001b[0m\n\u001b[1;32m      6\u001b[0m __all__ = [\n",
      "\u001b[0;32m~/opt/anaconda3/lib/python3.8/importlib/_bootstrap.py\u001b[0m in \u001b[0;36m_lock_unlock_module\u001b[0;34m(name)\u001b[0m\n",
      "\u001b[0;32m~/opt/anaconda3/lib/python3.8/importlib/_bootstrap.py\u001b[0m in \u001b[0;36macquire\u001b[0;34m(self)\u001b[0m\n",
      "\u001b[0;31mKeyboardInterrupt\u001b[0m: "
     ]
    }
   ],
   "source": [
    "import networkx as nx\n",
    "import osmnx as ox\n",
    "import geopandas as gpd\n",
    "import pandas as pd\n",
    "from shapely.geometry import Point\n",
    "from datetime import datetime\n",
    "print(ox.__version__)\n",
    "print(nx.__version__)\n",
    "print(gpd.__version__)\n",
    "print(pd.__version__)\n",
    "\n"
   ]
  },
  {
   "cell_type": "code",
   "execution_count": null,
   "metadata": {},
   "outputs": [],
   "source": [
    "df_risk = pd.read_csv('../data/data_100000_out_final.csv')\n",
    "geometry = [Point(xy) for xy in zip(df_risk.longitude, df_risk.latitude)]\n",
    "gdf_risk = gpd.GeoDataFrame(df_risk, crs=\"EPSG:4326\", geometry=geometry)"
   ]
  },
  {
   "cell_type": "code",
   "execution_count": null,
   "metadata": {},
   "outputs": [],
   "source": [
    "df_risk.sort_values(by=[\"zip_code\", \"latitude\", \"longitude\"], inplace=True, ignore_index=True)\n",
    "df_risk.head()"
   ]
  },
  {
   "cell_type": "code",
   "execution_count": null,
   "metadata": {},
   "outputs": [],
   "source": []
  },
  {
   "cell_type": "code",
   "execution_count": null,
   "metadata": {},
   "outputs": [],
   "source": [
    "df_risk.groupby(['zip_code']).size()"
   ]
  },
  {
   "cell_type": "code",
   "execution_count": null,
   "metadata": {},
   "outputs": [],
   "source": [
    "df_risk.loc[df_risk[\"zip_code\"]<1000, 'zip_code'] = -1"
   ]
  },
  {
   "cell_type": "code",
   "execution_count": null,
   "metadata": {},
   "outputs": [],
   "source": [
    "df_risk.head(40)"
   ]
  },
  {
   "cell_type": "code",
   "execution_count": null,
   "metadata": {},
   "outputs": [],
   "source": [
    "df_zip_bounds = gpd.read_file(\"../data/nyc_zip_code_tabulation_areas_polygons.geojson\")\n",
    "\n",
    "#df_zip_bounds = df_risk.groupby(\"zip_code\").agg({'latitude':['min', 'max'],'longitude':['min', 'max']})\n",
    "df_zip_bounds"
   ]
  },
  {
   "cell_type": "code",
   "execution_count": null,
   "metadata": {},
   "outputs": [],
   "source": [
    "tb = df_zip_bounds.loc[0, \"geometry\"].envelope\n",
    "print(tb.exterior.coords[0])\n",
    "print(tb.exterior.coords[1])\n",
    "print(tb.exterior.coords[2])\n",
    "print(tb.exterior.coords[3])"
   ]
  },
  {
   "cell_type": "code",
   "execution_count": null,
   "metadata": {},
   "outputs": [],
   "source": [
    "#from datetime import datetime\n",
    "\n",
    "#dict_Gox = {}\n",
    "#current_zip_loaded = 0\n",
    "#G = None\n",
    "#for idx, row in df_zip_bounds.iterrows():\n",
    "    \n",
    "    # Chargement du graph \n",
    "#    if current_zip_loaded != row.postalcode:\n",
    "#        print(\"[!] Start \", row.postalcode, \" - \", datetime.now())\n",
    "#        current_zip_loaded = row.postalcode\n",
    "#        tb = row.geometry.envelope\n",
    "#        try:\n",
    "#            print(tb.exterior.coords[2][1])\n",
    "#            G = ox.graph_from_bbox(tb.exterior.coords[2][1], tb.exterior.coords[0][1],\n",
    "#                                   tb.exterior.coords[2][0], tb.exterior.coords[0][0],\n",
    "#                                   network_type='drive')\n",
    "#            dict_Gox[current_zip_loaded] = G\n",
    "#            print(\"nodes = \", G.number_of_nodes())\n",
    "#            print(\"edges = \", G.number_of_edges())\n",
    "#            print(\"[!] End \", row.postalcode, \" - \", datetime.now())\n",
    "#        except Exception:\n",
    "#            print(\"[!] Oups \", row.postalcode, \" - \", datetime.now())\n"
   ]
  },
  {
   "cell_type": "code",
   "execution_count": null,
   "metadata": {},
   "outputs": [],
   "source": [
    "dict_Gox = {}\n",
    "for idx, row in df_zip_bounds.iterrows():\n",
    "    key = row.postalcode\n",
    "    print(key)\n",
    "    \n",
    "    try:\n",
    "        dict_Gox[key] = ox.load_graphml(filepath=f'data/OSM/NYC_drive{key}.osm')\n",
    "    except Exception:\n",
    "        pass"
   ]
  },
  {
   "cell_type": "code",
   "execution_count": null,
   "metadata": {},
   "outputs": [],
   "source": [
    "len(dict_Gox)"
   ]
  },
  {
   "cell_type": "code",
   "execution_count": null,
   "metadata": {},
   "outputs": [],
   "source": [
    "#for key in dict_Gox:\n",
    "#    print(\"[!] Start \", key, \" - \", datetime.now())\n",
    "#    ox.save_graphml(dict_Gox[key], filepath=f'data/OSM/NYC_drive_{key}.osm')"
   ]
  },
  {
   "cell_type": "code",
   "execution_count": null,
   "metadata": {},
   "outputs": [],
   "source": [
    "import numpy as np\n",
    "df_risk[\"u\"] = np.nan\n",
    "df_risk[\"v\"] = np.nan\n",
    "df_risk[\"k\"] = np.nan\n",
    "df_risk[\"dist\"] = np.nan"
   ]
  },
  {
   "cell_type": "code",
   "execution_count": null,
   "metadata": {},
   "outputs": [],
   "source": [
    "df_risk.head()"
   ]
  },
  {
   "cell_type": "code",
   "execution_count": null,
   "metadata": {},
   "outputs": [],
   "source": [
    "current_zip = None\n",
    "G = None\n",
    "for idx, row in df_risk.iterrows():\n",
    "    \n",
    "    if row.zip_code != current_zip:\n",
    "        try:\n",
    "            # Load du Graph\n",
    "            current_zip = row.zip_code\n",
    "            G = dict_Gox[str(current_zip)]\n",
    "        except KeyError:\n",
    "            G = None\n",
    "    if G is not None:\n",
    "        node_id, distance = ox.get_nearest_node(G, (row.latitude, row.longitude), return_dist=True)\n",
    "        if distance <= 10 :\n",
    "            #print('NODE ', node_id, ' - ', distance)\n",
    "            df_risk.at[idx,\"u\"] = node_id\n",
    "            df_risk.at[idx,\"dist\"] = distance \n",
    "        else:\n",
    "            #print('EDGE ', node_id, ' - ', distance)\n",
    "            u, v, k, dist = ox.get_nearest_edge(G, (row.latitude, row.longitude), return_geom=False, return_dist=True)\n",
    "            df_risk.at[idx,\"u\"] = u\n",
    "            df_risk.at[idx,\"v\"] = v\n",
    "            df_risk.at[idx,\"k\"] = k\n",
    "            df_risk.at[idx,\"dist\"] = distance\n",
    "    if idx % 1000 == 0:\n",
    "        print(\"[!] Loaded\", idx , \" - \", datetime.now())\n",
    "        \n",
    "    "
   ]
  },
  {
   "cell_type": "code",
   "execution_count": null,
   "metadata": {},
   "outputs": [],
   "source": [
    "df_risk.to_csv(\"NYC_crashes_100000_osmid.csv\")"
   ]
  },
  {
   "cell_type": "code",
   "execution_count": null,
   "metadata": {},
   "outputs": [],
   "source": [
    "df_risk.sort_values(by=[\"dist\"], inplace=True, ignore_index=False, na_position='first')"
   ]
  },
  {
   "cell_type": "code",
   "execution_count": null,
   "metadata": {},
   "outputs": [],
   "source": [
    "df_risk.loc[1708]"
   ]
  },
  {
   "cell_type": "code",
   "execution_count": null,
   "metadata": {},
   "outputs": [],
   "source": [
    "df_risk[(df_risk.dist > 200) & ((df_risk.off_street_name == 'Unknown'))].shape\n",
    "#df_risk[(df_risk.dist.isna())].shape"
   ]
  },
  {
   "cell_type": "code",
   "execution_count": null,
   "metadata": {},
   "outputs": [],
   "source": [
    "import folium\n",
    "\n",
    "latitude = 40.677834\n",
    "longitude = -74.012443\n",
    "map_nyc = folium.Map(location=[latitude, longitude], zoom_start=10)\n",
    "\n",
    "#index = df_risk.index #[3041,3043,3042,2983,2985]\n",
    "index = [1708]\n",
    "for i in index:\n",
    "#for i in range(100):\n",
    "    folium.Marker([df_risk.at[i,'latitude'], df_risk.at[i,'longitude']], popup=f'{i}, distance = {df_risk.at[i, \"dist\"]}', icon=folium.Icon(color=\"green\")).add_to(map_nyc)\n",
    "    G = dict_Gox[str(df_risk.at[i,\"zip_code\"])]\n",
    "    nearest_edge = ox.get_nearest_edge(G, (df_risk.at[i,'latitude'], df_risk.at[i,'longitude']), return_geom=True, return_dist=True)\n",
    "    folium.Choropleth(nearest_edge[3], line_weight=5, line_color='red', line_opacity=0.5).add_to(map_nyc)\n",
    "        \n",
    "map_nyc"
   ]
  },
  {
   "cell_type": "code",
   "execution_count": null,
   "metadata": {},
   "outputs": [],
   "source": [
    "i = 1183\n",
    "G = dict_Gox[str(df_risk.at[i,\"zip_code\"])]\n",
    "node_id, distance = ox.get_nearest_node(G,  (df_risk.at[i,'latitude'], df_risk.at[i,'longitude']), return_dist=True)\n",
    "nearest_edge = ox.get_nearest_edge(G, (df_risk.at[i,'latitude'], df_risk.at[i,'longitude']), return_geom=True, return_dist=True)\n",
    "print(node_id, '-', distance)"
   ]
  },
  {
   "cell_type": "markdown",
   "metadata": {},
   "source": [
    "### Data finalization"
   ]
  },
  {
   "cell_type": "code",
   "execution_count": null,
   "metadata": {},
   "outputs": [],
   "source": [
    "df_cleaned = df_risk[(df_risk['u'].notna())&(df_risk['dist'] <= 200)]\n",
    "df_cleaned.shape"
   ]
  },
  {
   "cell_type": "code",
   "execution_count": null,
   "metadata": {},
   "outputs": [],
   "source": [
    "def get_risk_value(row):\n",
    "    return 1 + row['persons_injured'] + row['persons_killed']*2 "
   ]
  },
  {
   "cell_type": "code",
   "execution_count": null,
   "metadata": {},
   "outputs": [],
   "source": [
    "df_cleaned['risk'] = df_cleaned.apply(lambda row: get_risk_value(row), axis=1 )"
   ]
  },
  {
   "cell_type": "code",
   "execution_count": null,
   "metadata": {},
   "outputs": [],
   "source": [
    "df_cleaned = df_cleaned.fillna({'v':0,'k':0})"
   ]
  },
  {
   "cell_type": "code",
   "execution_count": null,
   "metadata": {},
   "outputs": [],
   "source": [
    "df_cleaned.head()"
   ]
  },
  {
   "cell_type": "code",
   "execution_count": null,
   "metadata": {},
   "outputs": [],
   "source": [
    "series_risk = df_cleaned.groupby(['u', 'v', 'k'])['risk'].agg('sum')"
   ]
  },
  {
   "cell_type": "code",
   "execution_count": null,
   "metadata": {},
   "outputs": [],
   "source": [
    "series_risk"
   ]
  },
  {
   "cell_type": "markdown",
   "metadata": {},
   "source": [
    "### Append risk to OSM Graph"
   ]
  },
  {
   "cell_type": "code",
   "execution_count": null,
   "metadata": {},
   "outputs": [],
   "source": [
    "G = ox.load_graphml(filepath='data/NYC_drive.osm') #, node_dtypes=specific_dtypes, edge_dtypes=specific_dtypes)"
   ]
  },
  {
   "cell_type": "code",
   "execution_count": null,
   "metadata": {},
   "outputs": [],
   "source": [
    "i=0\n",
    "for idx, risk in series_risk.iteritems():\n",
    "    u = idx[0]\n",
    "    v = idx[1]\n",
    "    k = idx[2]\n",
    "    \n",
    "    try:\n",
    "        if v == 0 :\n",
    "            G.nodes[u][\"risk\"] = risk\n",
    "        else:\n",
    "            G.edges[u,v,k][\"risk\"] = risk\n",
    "            G.edges[v,u,k][\"risk\"] = risk\n",
    "    except KeyError:\n",
    "        pass #print(\"error with idx = \", idx) "
   ]
  },
  {
   "cell_type": "code",
   "execution_count": null,
   "metadata": {},
   "outputs": [],
   "source": [
    "def get_edge_global_risk(node_u, node_v, edge_k):\n",
    "   node_u_wt = float(node_u.get(\"risk\", 0))\n",
    "   node_v_wt = float(node_v.get(\"risk\", 0))\n",
    "   edge_k_wt = float(edge_k.get(\"risk\", 0))\n",
    "\n",
    "   return (node_u_wt + node_v_wt)/2 + edge_k_wt"
   ]
  },
  {
   "cell_type": "code",
   "execution_count": null,
   "metadata": {},
   "outputs": [],
   "source": []
  },
  {
   "cell_type": "code",
   "execution_count": null,
   "metadata": {},
   "outputs": [],
   "source": [
    "i = 0\n",
    "for u,v,k in G.edges:\n",
    "    G.edges[u,v,k][\"global_risk\"] = get_edge_global_risk(G.nodes[u], G.nodes[v], G.edges[u,v,k])"
   ]
  },
  {
   "cell_type": "code",
   "execution_count": null,
   "metadata": {},
   "outputs": [],
   "source": [
    "ox.save_graphml(G, filepath=\"NYC_drive_risk_full_100000.osm\")"
   ]
  },
  {
   "cell_type": "code",
   "execution_count": null,
   "metadata": {},
   "outputs": [],
   "source": [
    "df_cleaned.columns"
   ]
  },
  {
   "cell_type": "markdown",
   "metadata": {},
   "source": [
    "## Cluster map"
   ]
  },
  {
   "cell_type": "code",
   "execution_count": null,
   "metadata": {},
   "outputs": [],
   "source": [
    "geometry = [Point(xy) for xy in zip(df_cleaned.longitude, df_cleaned.latitude)]\n",
    "gdf_cleaned = gpd.GeoDataFrame(df_cleaned, crs=\"EPSG:4326\", geometry=geometry)"
   ]
  },
  {
   "cell_type": "code",
   "execution_count": null,
   "metadata": {},
   "outputs": [],
   "source": [
    "#gdf_risk\n",
    "from folium import plugins\n",
    "\n",
    "cluster_map = folium.Map(location=[latitude, longitude],\n",
    "                         zoom_start=10)\n",
    "\n",
    "marker_cluster = plugins.MarkerCluster().add_to(cluster_map)\n",
    "for i, v in gdf_cleaned.iterrows():\n",
    "    popup = \"\"\"\n",
    "    Killed : <b>%s</b><br>\n",
    "    Injured : <b>%s</b><br>\n",
    "    \"\"\" % (v['persons_killed'], v['persons_injured'])\n",
    "    \n",
    "    if v['persons_killed'] > 0:\n",
    "        folium.CircleMarker(location=[v['latitude'], v['longitude']],\n",
    "                            radius=10,\n",
    "                            tooltip=popup,\n",
    "                            color='#581845',\n",
    "                            fill_color='#581845',\n",
    "                            fill_opacity=0.7,\n",
    "                            fill=True).add_to(marker_cluster)\n",
    "    elif v['persons_injured'] > 0:\n",
    "        folium.CircleMarker(location=[v['latitude'], v['longitude']],\n",
    "                            radius=10,\n",
    "                            tooltip=popup,\n",
    "                            color='#C70039',\n",
    "                            fill_color='#C70039',\n",
    "                            fill_opacity=0.7,\n",
    "                            fill=True).add_to(marker_cluster)\n",
    "    else :\n",
    "        folium.CircleMarker(location=[v['latitude'], v['longitude']],\n",
    "                            radius=10,\n",
    "                            tooltip=popup,\n",
    "                            color='#FFC300',\n",
    "                            fill_color='#FFC300',\n",
    "                            fill_opacity=0.7,\n",
    "                            fill=True).add_to(marker_cluster)"
   ]
  },
  {
   "cell_type": "code",
   "execution_count": null,
   "metadata": {},
   "outputs": [],
   "source": [
    "cluster_map"
   ]
  }
 ],
 "metadata": {
  "kernelspec": {
   "display_name": "base",
   "language": "python",
   "name": "base"
  },
  "language_info": {
   "codemirror_mode": {
    "name": "ipython",
    "version": 3
   },
   "file_extension": ".py",
   "mimetype": "text/x-python",
   "name": "python",
   "nbconvert_exporter": "python",
   "pygments_lexer": "ipython3",
   "version": "3.8.5"
  }
 },
 "nbformat": 4,
 "nbformat_minor": 4
}
